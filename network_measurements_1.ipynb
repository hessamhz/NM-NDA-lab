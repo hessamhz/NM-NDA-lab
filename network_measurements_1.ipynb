{
  "nbformat": 4,
  "nbformat_minor": 0,
  "metadata": {
    "colab": {
      "provenance": [],
      "authorship_tag": "ABX9TyPEnLHqc8+KCUPeTHkZPA0F"
    },
    "kernelspec": {
      "name": "python3",
      "display_name": "Python 3"
    },
    "language_info": {
      "name": "python"
    }
  },
  "cells": [
    {
      "cell_type": "code",
      "execution_count": null,
      "metadata": {
        "colab": {
          "base_uri": "https://localhost:8080/"
        },
        "id": "hJmqMwPQ3QOG",
        "outputId": "8317f468-782d-43c8-ea58-ecc06c659638"
      },
      "outputs": [
        {
          "output_type": "stream",
          "name": "stdout",
          "text": [
            "Looking in indexes: https://pypi.org/simple, https://us-python.pkg.dev/colab-wheels/public/simple/\n",
            "Requirement already satisfied: pythonping in /usr/local/lib/python3.8/dist-packages (1.1.4)\n",
            "Looking in indexes: https://pypi.org/simple, https://us-python.pkg.dev/colab-wheels/public/simple/\n",
            "Collecting scapy[basic]\n",
            "  Downloading scapy-2.5.0.tar.gz (1.3 MB)\n",
            "\u001b[2K     \u001b[90m━━━━━━━━━━━━━━━━━━━━━━━━━━━━━━━━━━━━━━━━\u001b[0m \u001b[32m1.3/1.3 MB\u001b[0m \u001b[31m19.4 MB/s\u001b[0m eta \u001b[36m0:00:00\u001b[0m\n",
            "\u001b[?25h  Preparing metadata (setup.py) ... \u001b[?25l\u001b[?25hdone\n",
            "Requirement already satisfied: ipython in /usr/local/lib/python3.8/dist-packages (from scapy[basic]) (7.9.0)\n",
            "Requirement already satisfied: pexpect in /usr/local/lib/python3.8/dist-packages (from ipython->scapy[basic]) (4.8.0)\n",
            "Requirement already satisfied: pygments in /usr/local/lib/python3.8/dist-packages (from ipython->scapy[basic]) (2.6.1)\n",
            "Requirement already satisfied: backcall in /usr/local/lib/python3.8/dist-packages (from ipython->scapy[basic]) (0.2.0)\n",
            "Requirement already satisfied: traitlets>=4.2 in /usr/local/lib/python3.8/dist-packages (from ipython->scapy[basic]) (5.7.1)\n",
            "Requirement already satisfied: pickleshare in /usr/local/lib/python3.8/dist-packages (from ipython->scapy[basic]) (0.7.5)\n",
            "Requirement already satisfied: decorator in /usr/local/lib/python3.8/dist-packages (from ipython->scapy[basic]) (4.4.2)\n",
            "Collecting jedi>=0.10\n",
            "  Downloading jedi-0.18.2-py2.py3-none-any.whl (1.6 MB)\n",
            "\u001b[2K     \u001b[90m━━━━━━━━━━━━━━━━━━━━━━━━━━━━━━━━━━━━━━━━\u001b[0m \u001b[32m1.6/1.6 MB\u001b[0m \u001b[31m68.9 MB/s\u001b[0m eta \u001b[36m0:00:00\u001b[0m\n",
            "\u001b[?25hRequirement already satisfied: prompt-toolkit<2.1.0,>=2.0.0 in /usr/local/lib/python3.8/dist-packages (from ipython->scapy[basic]) (2.0.10)\n",
            "Requirement already satisfied: setuptools>=18.5 in /usr/local/lib/python3.8/dist-packages (from ipython->scapy[basic]) (57.4.0)\n",
            "Requirement already satisfied: parso<0.9.0,>=0.8.0 in /usr/local/lib/python3.8/dist-packages (from jedi>=0.10->ipython->scapy[basic]) (0.8.3)\n",
            "Requirement already satisfied: wcwidth in /usr/local/lib/python3.8/dist-packages (from prompt-toolkit<2.1.0,>=2.0.0->ipython->scapy[basic]) (0.2.6)\n",
            "Requirement already satisfied: six>=1.9.0 in /usr/local/lib/python3.8/dist-packages (from prompt-toolkit<2.1.0,>=2.0.0->ipython->scapy[basic]) (1.15.0)\n",
            "Requirement already satisfied: ptyprocess>=0.5 in /usr/local/lib/python3.8/dist-packages (from pexpect->ipython->scapy[basic]) (0.7.0)\n",
            "Building wheels for collected packages: scapy\n",
            "  Building wheel for scapy (setup.py) ... \u001b[?25l\u001b[?25hdone\n",
            "  Created wheel for scapy: filename=scapy-2.5.0-py2.py3-none-any.whl size=1444349 sha256=229a507cdfaff446d0f5a4ff834b35ec000d2b268aa45c875053cc9d4e01bcd7\n",
            "  Stored in directory: /root/.cache/pip/wheels/98/ea/08/164e840ab2c83b892bf8b193ce9d92d029dc3e5f2b75319953\n",
            "Successfully built scapy\n",
            "Installing collected packages: scapy, jedi\n",
            "Successfully installed jedi-0.18.2 scapy-2.5.0\n"
          ]
        }
      ],
      "source": [
        "!pip install pythonping\n",
        "!pip install --pre scapy[basic]"
      ]
    },
    {
      "cell_type": "code",
      "source": [
        "import urllib.request as rq\n",
        "import json\n",
        "\n",
        "ip = rq.urlopen(\"https://api.ipify.org\").read().decode(\"UTF-8\")\n",
        "ip_info = json.loads(rq.urlopen(\"http://ip-api.com/json/\" + ip).read())\n",
        "\n",
        "print(\"External IP:\", ip)\n",
        "print(\"Organization:\", ip_info.get(\"org\"))\n",
        "print(\"Location:\", ip_info.get(\"city\"), ',', ip_info.get(\"country\"))"
      ],
      "metadata": {
        "colab": {
          "base_uri": "https://localhost:8080/"
        },
        "id": "8utJnfoh4hl7",
        "outputId": "684848d5-31e4-44dd-b797-0eb581beff77"
      },
      "execution_count": null,
      "outputs": [
        {
          "output_type": "stream",
          "name": "stdout",
          "text": [
            "External IP: 35.202.121.207\n",
            "Organization: Google Cloud (us-central1)\n",
            "Location: Council Bluffs , United States\n"
          ]
        }
      ]
    },
    {
      "cell_type": "code",
      "source": [
        "from pythonping import ping\n",
        "\n",
        "target = \"ftp.nz.debian.org\"\n",
        "ping(target, verbose=False, count=20)"
      ],
      "metadata": {
        "colab": {
          "base_uri": "https://localhost:8080/"
        },
        "id": "Ok-sMmP355oQ",
        "outputId": "660aa524-cd8f-49eb-f02f-a218424ccf95"
      },
      "execution_count": null,
      "outputs": [
        {
          "output_type": "execute_result",
          "data": {
            "text/plain": [
              "Reply from 163.7.134.112, 29 bytes in 191.9ms\n",
              "Reply from 163.7.134.112, 29 bytes in 191.09ms\n",
              "Reply from 163.7.134.112, 29 bytes in 190.99ms\n",
              "Reply from 163.7.134.112, 29 bytes in 190.95ms\n",
              "Reply from 163.7.134.112, 29 bytes in 191.0ms\n",
              "Reply from 163.7.134.112, 29 bytes in 191.08ms\n",
              "Reply from 163.7.134.112, 29 bytes in 191.0ms\n",
              "Reply from 163.7.134.112, 29 bytes in 191.05ms\n",
              "Reply from 163.7.134.112, 29 bytes in 191.21ms\n",
              "Reply from 163.7.134.112, 29 bytes in 190.92ms\n",
              "Reply from 163.7.134.112, 29 bytes in 191.02ms\n",
              "Reply from 163.7.134.112, 29 bytes in 190.99ms\n",
              "Reply from 163.7.134.112, 29 bytes in 191.04ms\n",
              "Reply from 163.7.134.112, 29 bytes in 191.17ms\n",
              "Reply from 163.7.134.112, 29 bytes in 191.05ms\n",
              "Reply from 163.7.134.112, 29 bytes in 191.08ms\n",
              "Reply from 163.7.134.112, 29 bytes in 191.07ms\n",
              "Reply from 163.7.134.112, 29 bytes in 191.12ms\n",
              "Reply from 163.7.134.112, 29 bytes in 191.31ms\n",
              "Reply from 163.7.134.112, 29 bytes in 191.06ms\n",
              "\n",
              "Round Trip Times min/avg/max is 190.92/191.1/191.9 ms"
            ]
          },
          "metadata": {},
          "execution_count": 11
        }
      ]
    },
    {
      "cell_type": "code",
      "source": [
        "import scapy.all as sc\n",
        "\n",
        "sc.IP().show()\n",
        "\n",
        "sc.ICMP().show()\n",
        "\n",
        "sc.TCP().show()\n",
        "\n",
        "sc.UDP().show()\n"
      ],
      "metadata": {
        "colab": {
          "base_uri": "https://localhost:8080/"
        },
        "id": "OWOkbyPG7wMo",
        "outputId": "a7b79ff9-7867-4374-f54f-6bcc05faf40b"
      },
      "execution_count": null,
      "outputs": [
        {
          "output_type": "stream",
          "name": "stdout",
          "text": [
            "###[ IP ]### \n",
            "  version   = 4\n",
            "  ihl       = None\n",
            "  tos       = 0x0\n",
            "  len       = None\n",
            "  id        = 1\n",
            "  flags     = \n",
            "  frag      = 0\n",
            "  ttl       = 64\n",
            "  proto     = 0\n",
            "  chksum    = None\n",
            "  src       = 127.0.0.1\n",
            "  dst       = 127.0.0.1\n",
            "  \\options   \\\n",
            "\n",
            "###[ ICMP ]### \n",
            "  type      = echo-request\n",
            "  code      = 0\n",
            "  chksum    = None\n",
            "  id        = 0x0\n",
            "  seq       = 0x0\n",
            "  unused    = ''\n",
            "\n",
            "###[ TCP ]### \n",
            "  sport     = 20\n",
            "  dport     = 80\n",
            "  seq       = 0\n",
            "  ack       = 0\n",
            "  dataofs   = None\n",
            "  reserved  = 0\n",
            "  flags     = S\n",
            "  window    = 8192\n",
            "  chksum    = None\n",
            "  urgptr    = 0\n",
            "  options   = ''\n",
            "\n",
            "###[ UDP ]### \n",
            "  sport     = 53\n",
            "  dport     = 53\n",
            "  len       = None\n",
            "  chksum    = None\n",
            "\n"
          ]
        }
      ]
    },
    {
      "cell_type": "markdown",
      "source": [
        "We can create a packet like this:"
      ],
      "metadata": {
        "id": "GQxnaNEBNeac"
      }
    },
    {
      "cell_type": "code",
      "source": [
        "packet = sc.IP(dst=\"ftp.nz.debian.org\") / sc.ICMP()\n",
        "packet.show()"
      ],
      "metadata": {
        "colab": {
          "base_uri": "https://localhost:8080/"
        },
        "id": "935xsvACL3wI",
        "outputId": "8ce0b2e3-cbfc-4cf7-eb21-2c7377027b7f"
      },
      "execution_count": null,
      "outputs": [
        {
          "output_type": "stream",
          "name": "stdout",
          "text": [
            "###[ IP ]### \n",
            "  version   = 4\n",
            "  ihl       = None\n",
            "  tos       = 0x0\n",
            "  len       = None\n",
            "  id        = 1\n",
            "  flags     = \n",
            "  frag      = 0\n",
            "  ttl       = 64\n",
            "  proto     = 1\n",
            "  chksum    = None\n",
            "  src       = 172.28.0.12\n",
            "  dst       = Net(\"ftp.nz.debian.org/32\")\n",
            "  \\options   \\\n",
            "###[ ICMP ]### \n",
            "     type      = echo-request\n",
            "     code      = 0\n",
            "     chksum    = None\n",
            "     id        = 0x0\n",
            "     seq       = 0x0\n",
            "     unused    = ''\n",
            "\n"
          ]
        }
      ]
    },
    {
      "cell_type": "markdown",
      "source": [
        "For sending the packet that we have created, we will use ```sr()```"
      ],
      "metadata": {
        "id": "BkC9VLlINQi4"
      }
    },
    {
      "cell_type": "code",
      "source": [
        "# wether we get an answer or not the two variables will be populated\n",
        "ans, unans = sc.sr(packet, verbose=False) \n",
        "print(\"Recieved\", len(ans), \"packets\")\n",
        "print(ans.summary())\n",
        "print(unans.summary())\n",
        "\n",
        "query = ans[0][0]\n",
        "answer = ans[0][1]\n",
        "\n",
        "print(query.summary())\n",
        "print(answer.summary())"
      ],
      "metadata": {
        "colab": {
          "base_uri": "https://localhost:8080/"
        },
        "id": "H2688GkFNFU1",
        "outputId": "f4968683-1782-4655-e03a-1a0dfb01492f"
      },
      "execution_count": null,
      "outputs": [
        {
          "output_type": "stream",
          "name": "stdout",
          "text": [
            "Recieved 1 packets\n",
            "IP / ICMP 172.28.0.12 > 163.7.134.112 echo-request 0 ==> IP / ICMP 163.7.134.112 > 172.28.0.12 echo-reply 0\n",
            "None\n",
            "None\n",
            "IP / ICMP 172.28.0.12 > 163.7.134.112 echo-request 0\n",
            "IP / ICMP 163.7.134.112 > 172.28.0.12 echo-reply 0\n"
          ]
        }
      ]
    },
    {
      "cell_type": "code",
      "source": [
        "print(query.sent_time)\n",
        "print(answer.time)\n",
        "rtt = answer.time - query.sent_time\n",
        "print(rtt*1000)"
      ],
      "metadata": {
        "colab": {
          "base_uri": "https://localhost:8080/"
        },
        "id": "bv3Uo7ZiNvEb",
        "outputId": "e333194a-d5a7-44a9-910c-ae89b7bcf132"
      },
      "execution_count": null,
      "outputs": [
        {
          "output_type": "stream",
          "name": "stdout",
          "text": [
            "1677156235.8036451\n",
            "1677156235.9957817\n",
            "192.1365261077881\n"
          ]
        }
      ]
    },
    {
      "cell_type": "markdown",
      "source": [
        "# Ping"
      ],
      "metadata": {
        "id": "zz0btGDIalT6"
      }
    },
    {
      "cell_type": "code",
      "source": [
        "def ping(dst: str, count: int) -> None:\n",
        "  rtt_sum = 0; loss_count = 0; max=0; min=float(\"inf\");\n",
        "  for i in range(count):\n",
        "    packet = sc.IP(dst=\"ftp.nz.debian.org\") / sc.ICMP()\n",
        "    ans, unans = sc.sr(packet, verbose=False)\n",
        "    if ans is None:\n",
        "      print(\"Request timout\")\n",
        "      loss_count += 1\n",
        "    else:  \n",
        "      rtt = 1000 * (ans[0][1].time - ans[0][0].sent_time)\n",
        "      rtt_sum += rtt\n",
        "      print(f\"Reply from {dst} in {rtt}\")\n",
        "      if rtt > max:\n",
        "        max = rtt\n",
        "      if rtt < min:\n",
        "        min = rtt\n",
        "  avg =  rtt_sum / (count - loss_count)\n",
        "  loss = loss_count / count\n",
        "  print(f\"Statistics are min={min}ms, max={max}ms, average={avg}ms, loss={loss}\")\n"
      ],
      "metadata": {
        "id": "fg5pJ32KPkom"
      },
      "execution_count": null,
      "outputs": []
    },
    {
      "cell_type": "code",
      "source": [
        "ping(\"ftp.nz.debian.org\", 5)"
      ],
      "metadata": {
        "colab": {
          "base_uri": "https://localhost:8080/"
        },
        "id": "cOx-t_r-Vpll",
        "outputId": "656b60ed-1862-494c-a22f-ca5ab2ec90d3"
      },
      "execution_count": null,
      "outputs": [
        {
          "output_type": "stream",
          "name": "stdout",
          "text": [
            "Reply from ftp.nz.debian.org in 191.61367416381836\n",
            "Reply from ftp.nz.debian.org in 190.4599666595459\n",
            "Reply from ftp.nz.debian.org in 190.57774543762207\n",
            "Reply from ftp.nz.debian.org in 190.4733180999756\n",
            "Reply from ftp.nz.debian.org in 190.62161445617676\n",
            "Statistics are min=190.4599666595459ms, max=191.61367416381836ms, average=190.74926376342773ms, loss=0.0\n"
          ]
        }
      ]
    },
    {
      "cell_type": "markdown",
      "source": [
        "# Traceroute "
      ],
      "metadata": {
        "id": "qikgpau8aaNG"
      }
    },
    {
      "cell_type": "code",
      "source": [
        "!apt-get install traceroute"
      ],
      "metadata": {
        "colab": {
          "base_uri": "https://localhost:8080/"
        },
        "id": "LCucNYpfY9Cd",
        "outputId": "ef00dd0c-b664-4eb2-ebc8-3c4e91fdfd75"
      },
      "execution_count": null,
      "outputs": [
        {
          "output_type": "stream",
          "name": "stdout",
          "text": [
            "Reading package lists... Done\n",
            "Building dependency tree       \n",
            "Reading state information... Done\n",
            "The following package was automatically installed and is no longer required:\n",
            "  libnvidia-common-510\n",
            "Use 'apt autoremove' to remove it.\n",
            "The following NEW packages will be installed:\n",
            "  traceroute\n",
            "0 upgraded, 1 newly installed, 0 to remove and 21 not upgraded.\n",
            "Need to get 45.4 kB of archives.\n",
            "After this operation, 152 kB of additional disk space will be used.\n",
            "Get:1 http://archive.ubuntu.com/ubuntu focal/universe amd64 traceroute amd64 1:2.1.0-2 [45.4 kB]\n",
            "Fetched 45.4 kB in 0s (160 kB/s)\n",
            "Selecting previously unselected package traceroute.\n",
            "(Reading database ... 128126 files and directories currently installed.)\n",
            "Preparing to unpack .../traceroute_1%3a2.1.0-2_amd64.deb ...\n",
            "Unpacking traceroute (1:2.1.0-2) ...\n",
            "Setting up traceroute (1:2.1.0-2) ...\n",
            "update-alternatives: using /usr/bin/traceroute.db to provide /usr/bin/traceroute (traceroute) in auto mode\n",
            "update-alternatives: using /usr/bin/traceroute6.db to provide /usr/bin/traceroute6 (traceroute6) in auto mode\n",
            "update-alternatives: using /usr/bin/lft.db to provide /usr/bin/lft (lft) in auto mode\n",
            "update-alternatives: using /usr/bin/traceproto.db to provide /usr/bin/traceproto (traceproto) in auto mode\n",
            "update-alternatives: using /usr/sbin/tcptraceroute.db to provide /usr/sbin/tcptraceroute (tcptraceroute) in auto mode\n",
            "Processing triggers for man-db (2.9.1-1) ...\n"
          ]
        }
      ]
    },
    {
      "cell_type": "code",
      "source": [
        "!traceroute -I ftp.nz.debian.org"
      ],
      "metadata": {
        "colab": {
          "base_uri": "https://localhost:8080/"
        },
        "id": "eqIbvSNsaq42",
        "outputId": "20d3325f-2172-4d65-814a-064c9aa94526"
      },
      "execution_count": null,
      "outputs": [
        {
          "output_type": "stream",
          "name": "stdout",
          "text": [
            "traceroute to ftp.nz.debian.org (163.7.134.112), 30 hops max, 60 byte packets\n",
            " 1  172.28.0.1 (172.28.0.1)  0.043 ms  0.020 ms  0.005 ms\n",
            " 2  66.249.94.186 (66.249.94.186)  46.372 ms  46.357 ms  46.351 ms\n",
            " 3  six.reannz.co.nz (206.81.81.203)  46.122 ms  46.120 ms  46.117 ms\n",
            " 4  and33-hnl.reannz.co.nz (210.7.33.244)  93.731 ms  93.729 ms  93.725 ms\n",
            " 5  and31-mgw.reannz.co.nz (210.7.33.246)  189.357 ms  189.385 ms  189.383 ms\n",
            " 6  and12-nsh.reannz.co.nz (210.7.33.242)  189.222 ms  188.508 ms  188.471 ms\n",
            " 7  163.7.134.120 (163.7.134.120)  190.978 ms  190.757 ms  190.729 ms\n",
            " 8  163.7.134.112 (163.7.134.112)  190.194 ms  190.427 ms  190.372 ms\n"
          ]
        }
      ]
    },
    {
      "cell_type": "code",
      "source": [
        "def tracert(dst: str) -> None:\n",
        "  for i in range(64):\n",
        "    packet = sc.IP(dst=dst, ttl=i+1) / sc.ICMP()\n",
        "    ans, unans = sc.sr(packet, verbose=False, timeout=2)\n",
        "    if ans is None:\n",
        "      print(f\"hop {i + 1}: ***\")\n",
        "    else:\n",
        "      rtt = 1000 * (ans[0][1].time - ans[0][0].sent_time)\n",
        "      print(f\"hop {i + 1}: {ans[0][1].src}, {rtt}ms\")\n",
        "      if not ans[0][1].type: # type 11: ttl exceeded \n",
        "        break\n",
        "      "
      ],
      "metadata": {
        "id": "mlZ3SYwZavEg"
      },
      "execution_count": null,
      "outputs": []
    },
    {
      "cell_type": "code",
      "source": [
        "tracert(\"ftp.nz.debian.org\")"
      ],
      "metadata": {
        "colab": {
          "base_uri": "https://localhost:8080/"
        },
        "id": "sEE6FBIAcWRl",
        "outputId": "f6f8259e-ed89-41d8-cc1d-5e16a9c95fad"
      },
      "execution_count": null,
      "outputs": [
        {
          "output_type": "stream",
          "name": "stdout",
          "text": [
            "hop 1: 172.28.0.1, 0.08511543273925781ms\n",
            "hop 2: 66.249.94.186, 45.93944549560547ms\n",
            "hop 3: 206.81.81.203, 44.71731185913086ms\n",
            "hop 4: 210.7.33.244, 93.53113174438477ms\n",
            "hop 5: 210.7.33.246, 188.42029571533203ms\n",
            "hop 6: 210.7.33.242, 188.51089477539062ms\n",
            "hop 7: 163.7.134.120, 191.09439849853516ms\n",
            "hop 8: 163.7.134.112, 190.45686721801758ms\n"
          ]
        }
      ]
    },
    {
      "cell_type": "markdown",
      "source": [
        "If a server doesn't reply to ICMP, we can implement it with other protocols(TCP, UDP, ...)"
      ],
      "metadata": {
        "id": "4zhIutZwioHA"
      }
    },
    {
      "cell_type": "markdown",
      "source": [
        "## Iperf \n",
        "Iperf and SNMP were examined the second lab but since they were active measurements. I've put it here"
      ],
      "metadata": {
        "id": "f6Uz4c3Dwyip"
      }
    },
    {
      "cell_type": "code",
      "source": [
        "!apt-get install iperf3"
      ],
      "metadata": {
        "id": "RmwPYpZ-cY8T",
        "outputId": "4d516556-089a-42a2-8f5a-bd00fa554442",
        "colab": {
          "base_uri": "https://localhost:8080/"
        }
      },
      "execution_count": 1,
      "outputs": [
        {
          "output_type": "stream",
          "name": "stdout",
          "text": [
            "Reading package lists... Done\n",
            "Building dependency tree       \n",
            "Reading state information... Done\n",
            "The following additional packages will be installed:\n",
            "  libiperf0 libsctp1\n",
            "Suggested packages:\n",
            "  lksctp-tools\n",
            "The following NEW packages will be installed:\n",
            "  iperf3 libiperf0 libsctp1\n",
            "0 upgraded, 3 newly installed, 0 to remove and 19 not upgraded.\n",
            "Need to get 94.1 kB of archives.\n",
            "After this operation, 331 kB of additional disk space will be used.\n",
            "Get:1 http://archive.ubuntu.com/ubuntu focal/main amd64 libsctp1 amd64 1.0.18+dfsg-1 [7,876 B]\n",
            "Get:2 http://archive.ubuntu.com/ubuntu focal/universe amd64 libiperf0 amd64 3.7-3 [72.0 kB]\n",
            "Get:3 http://archive.ubuntu.com/ubuntu focal/universe amd64 iperf3 amd64 3.7-3 [14.2 kB]\n",
            "Fetched 94.1 kB in 1s (121 kB/s)\n",
            "Selecting previously unselected package libsctp1:amd64.\n",
            "(Reading database ... 128221 files and directories currently installed.)\n",
            "Preparing to unpack .../libsctp1_1.0.18+dfsg-1_amd64.deb ...\n",
            "Unpacking libsctp1:amd64 (1.0.18+dfsg-1) ...\n",
            "Selecting previously unselected package libiperf0:amd64.\n",
            "Preparing to unpack .../libiperf0_3.7-3_amd64.deb ...\n",
            "Unpacking libiperf0:amd64 (3.7-3) ...\n",
            "Selecting previously unselected package iperf3.\n",
            "Preparing to unpack .../iperf3_3.7-3_amd64.deb ...\n",
            "Unpacking iperf3 (3.7-3) ...\n",
            "Setting up libsctp1:amd64 (1.0.18+dfsg-1) ...\n",
            "Setting up libiperf0:amd64 (3.7-3) ...\n",
            "Setting up iperf3 (3.7-3) ...\n",
            "Processing triggers for man-db (2.9.1-1) ...\n",
            "Processing triggers for libc-bin (2.31-0ubuntu9.9) ...\n"
          ]
        }
      ]
    },
    {
      "cell_type": "code",
      "source": [
        "# if we don't specify anything TCP will be used.\n",
        "!iperf3 -c paris.testdebit.info -p 9240 --get-server-output"
      ],
      "metadata": {
        "id": "tX8nj6U3tJkz",
        "outputId": "6bdc36a9-945f-4daf-f5ed-7c3d46be6d94",
        "colab": {
          "base_uri": "https://localhost:8080/"
        }
      },
      "execution_count": 16,
      "outputs": [
        {
          "output_type": "stream",
          "name": "stdout",
          "text": [
            "Connecting to host paris.testdebit.info, port 9240\n",
            "[  5] local 172.28.0.12 port 56336 connected to 89.84.1.194 port 9240\n",
            "[ ID] Interval           Transfer     Bitrate         Retr  Cwnd\n",
            "[  5]   0.00-1.00   sec  3.68 MBytes  30.9 Mbits/sec   15    747 KBytes       \n",
            "[  5]   1.00-2.00   sec  20.0 MBytes   168 Mbits/sec    0   7.63 MBytes       \n",
            "[  5]   2.00-3.00   sec  26.2 MBytes   220 Mbits/sec    0   7.63 MBytes       \n",
            "[  5]   3.00-4.00   sec  26.2 MBytes   220 Mbits/sec    0   7.63 MBytes       \n",
            "[  5]   4.00-5.00   sec  26.2 MBytes   220 Mbits/sec    0   7.63 MBytes       \n",
            "[  5]   5.00-6.00   sec  26.2 MBytes   220 Mbits/sec    0   7.63 MBytes       \n",
            "[  5]   6.00-7.00   sec  26.2 MBytes   220 Mbits/sec    0   7.63 MBytes       \n",
            "[  5]   7.00-8.00   sec  26.2 MBytes   220 Mbits/sec    0   7.63 MBytes       \n",
            "[  5]   8.00-9.00   sec  26.2 MBytes   220 Mbits/sec    0   7.63 MBytes       \n",
            "[  5]   9.00-10.00  sec  25.0 MBytes   210 Mbits/sec    0   7.63 MBytes       \n",
            "- - - - - - - - - - - - - - - - - - - - - - - - -\n",
            "[ ID] Interval           Transfer     Bitrate         Retr\n",
            "[  5]   0.00-10.00  sec   232 MBytes   195 Mbits/sec   15             sender\n",
            "[  5]   0.00-10.13  sec   232 MBytes   192 Mbits/sec                  receiver\n",
            "\n",
            "Server output:\n",
            "Accepted connection from 35.197.10.219, port 56334\n",
            "[  5] local 89.84.1.194 port 9240 connected to 35.197.10.219 port 56336\n",
            "[ ID] Interval           Transfer     Bitrate\n",
            "[  5]   0.00-1.00   sec   733 KBytes  6.00 Mbits/sec                  \n",
            "[  5]   1.00-2.00   sec  19.2 MBytes   161 Mbits/sec                  \n",
            "[  5]   2.00-3.00   sec  26.3 MBytes   220 Mbits/sec                  \n",
            "[  5]   3.00-4.00   sec  26.2 MBytes   220 Mbits/sec                  \n",
            "[  5]   4.00-5.00   sec  26.2 MBytes   220 Mbits/sec                  \n",
            "[  5]   5.00-6.00   sec  26.2 MBytes   220 Mbits/sec                  \n",
            "[  5]   6.00-7.00   sec  26.2 MBytes   220 Mbits/sec                  \n",
            "[  5]   7.00-8.00   sec  26.2 MBytes   220 Mbits/sec                  \n",
            "[  5]   8.00-9.00   sec  26.2 MBytes   220 Mbits/sec                  \n",
            "[  5]   9.00-10.00  sec  25.9 MBytes   217 Mbits/sec                  \n",
            "[  5]  10.00-10.13  sec  2.88 MBytes   180 Mbits/sec                  \n",
            "- - - - - - - - - - - - - - - - - - - - - - - - -\n",
            "[ ID] Interval           Transfer     Bitrate\n",
            "[  5]   0.00-10.13  sec   232 MBytes   192 Mbits/sec                  receiver\n",
            "\n",
            "\n",
            "iperf Done.\n"
          ]
        }
      ]
    },
    {
      "cell_type": "code",
      "source": [
        "# The arg -u makes the iperf to use UDP \n",
        "# Arg -b is also used for bitrate\n",
        "!iperf3 -u -c speedtest.shinternet.ch -p  5200-5209 -b 1000000000 --get-server-output"
      ],
      "metadata": {
        "id": "-aC6zT5BtbFF",
        "outputId": "81c3e564-8f5c-4219-e65c-85c1cb5da0dc",
        "colab": {
          "base_uri": "https://localhost:8080/"
        }
      },
      "execution_count": 17,
      "outputs": [
        {
          "output_type": "stream",
          "name": "stdout",
          "text": [
            "Connecting to host speedtest.shinternet.ch, port 5200\n",
            "[  5] local 172.28.0.12 port 60392 connected to 88.213.191.212 port 5200\n",
            "[ ID] Interval           Transfer     Bitrate         Total Datagrams\n",
            "[  5]   0.00-1.00   sec   119 MBytes   999 Mbits/sec  88724  \n",
            "[  5]   1.00-2.00   sec   119 MBytes  1000 Mbits/sec  88767  \n",
            "[  5]   2.00-3.00   sec   119 MBytes  1.00 Gbits/sec  88806  \n",
            "[  5]   3.00-4.00   sec   119 MBytes  1000 Mbits/sec  88775  \n",
            "[  5]   4.00-5.00   sec   119 MBytes  1.00 Gbits/sec  88815  \n",
            "[  5]   5.00-6.00   sec   119 MBytes   999 Mbits/sec  88696  \n",
            "[  5]   6.00-7.00   sec   119 MBytes  1.00 Gbits/sec  88804  \n",
            "[  5]   7.00-8.00   sec   119 MBytes  1.00 Gbits/sec  88825  \n",
            "[  5]   8.00-9.00   sec   119 MBytes  1000 Mbits/sec  88772  \n",
            "[  5]   9.00-10.00  sec   119 MBytes   999 Mbits/sec  88733  \n",
            "- - - - - - - - - - - - - - - - - - - - - - - - -\n",
            "[ ID] Interval           Transfer     Bitrate         Jitter    Lost/Total Datagrams\n",
            "[  5]   0.00-10.00  sec  1.16 GBytes  1000 Mbits/sec  0.000 ms  0/887717 (0%)  sender\n",
            "[  5]   0.00-10.19  sec  1.16 MBytes   955 Kbits/sec  11.595 ms  0/864 (0%)  receiver\n",
            "\n",
            "Server output:\n",
            "-----------------------------------------------------------\n",
            "Server listening on 5200\n",
            "-----------------------------------------------------------\n",
            "Accepted connection from 35.197.10.219, port 40532\n",
            "[ 21] local 88.213.191.212 port 5200 connected to 35.197.10.219 port 60392\n",
            "[ ID] Interval           Transfer     Bitrate         Jitter    Lost/Total Datagrams\n",
            "[ 21]   0.00-1.00   sec  99.0 KBytes   811 Kbits/sec  1072921484.908 ms  0/72 (0%)  \n",
            "[ 21]   1.00-2.00   sec   118 KBytes   969 Kbits/sec  4169643.407 ms  0/86 (0%)  \n",
            "[ 21]   2.00-3.00   sec   118 KBytes   969 Kbits/sec  16215.783 ms  0/86 (0%)  \n",
            "[ 21]   3.00-4.00   sec   118 KBytes   969 Kbits/sec  74.567 ms  0/86 (0%)  \n",
            "[ 21]   4.00-5.00   sec   120 KBytes   980 Kbits/sec  11.826 ms  0/87 (0%)  \n",
            "[ 21]   5.00-6.00   sec   118 KBytes   969 Kbits/sec  11.597 ms  0/86 (0%)  \n",
            "[ 21]   6.00-7.00   sec   118 KBytes   969 Kbits/sec  11.592 ms  0/86 (0%)  \n",
            "[ 21]   7.00-8.00   sec   118 KBytes   969 Kbits/sec  11.598 ms  0/86 (0%)  \n",
            "[ 21]   8.00-9.00   sec   118 KBytes   969 Kbits/sec  11.589 ms  0/86 (0%)  \n",
            "[ 21]   9.00-10.00  sec   120 KBytes   980 Kbits/sec  11.594 ms  0/87 (0%)  \n",
            "[ 21]  10.00-10.19  sec  22.0 KBytes   962 Kbits/sec  11.595 ms  0/16 (0%)  \n",
            "- - - - - - - - - - - - - - - - - - - - - - - - -\n",
            "[ ID] Interval           Transfer     Bitrate         Jitter    Lost/Total Datagrams\n",
            "[ 21]   0.00-10.19  sec  1.16 MBytes   955 Kbits/sec  11.595 ms  0/864 (0%)  receiver\n",
            "\n",
            "\n",
            "iperf Done.\n"
          ]
        }
      ]
    },
    {
      "cell_type": "markdown",
      "source": [
        "## SNMP"
      ],
      "metadata": {
        "id": "vFNHFRIdw8M0"
      }
    },
    {
      "cell_type": "code",
      "source": [],
      "metadata": {
        "id": "gWNSuWKXw2iy"
      },
      "execution_count": null,
      "outputs": []
    }
  ]
}
